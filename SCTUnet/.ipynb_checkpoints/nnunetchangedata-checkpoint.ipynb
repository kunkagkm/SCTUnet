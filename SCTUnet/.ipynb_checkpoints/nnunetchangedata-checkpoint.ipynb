{
 "cells": [
  {
   "cell_type": "code",
   "execution_count": 1,
   "metadata": {},
   "outputs": [
    {
     "ename": "ModuleNotFoundError",
     "evalue": "No module named 'torch'",
     "output_type": "error",
     "traceback": [
      "\u001b[1;31m---------------------------------------------------------------------------\u001b[0m",
      "\u001b[1;31mModuleNotFoundError\u001b[0m                       Traceback (most recent call last)",
      "\u001b[1;32m<ipython-input-1-8f90d5f9eae1>\u001b[0m in \u001b[0;36m<module>\u001b[1;34m()\u001b[0m\n\u001b[1;32m----> 1\u001b[1;33m \u001b[1;32mimport\u001b[0m \u001b[0mtorch\u001b[0m\u001b[1;33m\u001b[0m\u001b[0m\n\u001b[0m\u001b[0;32m      2\u001b[0m \u001b[1;33m\u001b[0m\u001b[0m\n\u001b[0;32m      3\u001b[0m \u001b[0mprint\u001b[0m\u001b[1;33m(\u001b[0m\u001b[0mtorch\u001b[0m\u001b[1;33m.\u001b[0m\u001b[0m__version__\u001b[0m\u001b[1;33m)\u001b[0m\u001b[1;33m\u001b[0m\u001b[0m\n",
      "\u001b[1;31mModuleNotFoundError\u001b[0m: No module named 'torch'"
     ]
    }
   ],
   "source": [
    "import torch\n",
    " \n",
    "print(torch.__version__)\n"
   ]
  },
  {
   "cell_type": "code",
   "execution_count": 3,
   "metadata": {},
   "outputs": [
    {
     "name": "stdout",
     "output_type": "stream",
     "text": [
      "1\n"
     ]
    }
   ],
   "source": [
    "print(\"1\")\n",
    "    \n"
   ]
  },
  {
   "cell_type": "code",
   "execution_count": 6,
   "metadata": {},
   "outputs": [
    {
     "name": "stdout",
     "output_type": "stream",
     "text": [
      "Renamed F:\\pytorch_study\\Segmentation/nnUNet-master/nnUNet-master\\Dataset/nnUNet_raw/nnUNet_raw_data\\Task309_welding\\mask\\W0002_0001.png to F:\\pytorch_study\\Segmentation/nnUNet-master/nnUNet-master\\Dataset/nnUNet_raw/nnUNet_raw_data\\Task309_welding\\mask\\W0001_0001.png\n",
      "Renamed F:\\pytorch_study\\Segmentation/nnUNet-master/nnUNet-master\\Dataset/nnUNet_raw/nnUNet_raw_data\\Task309_welding\\mask\\W0002_0002.png to F:\\pytorch_study\\Segmentation/nnUNet-master/nnUNet-master\\Dataset/nnUNet_raw/nnUNet_raw_data\\Task309_welding\\mask\\W0001_0002.png\n",
      "Renamed F:\\pytorch_study\\Segmentation/nnUNet-master/nnUNet-master\\Dataset/nnUNet_raw/nnUNet_raw_data\\Task309_welding\\mask\\W0002_0003.png to F:\\pytorch_study\\Segmentation/nnUNet-master/nnUNet-master\\Dataset/nnUNet_raw/nnUNet_raw_data\\Task309_welding\\mask\\W0001_0003.png\n",
      "Renamed F:\\pytorch_study\\Segmentation/nnUNet-master/nnUNet-master\\Dataset/nnUNet_raw/nnUNet_raw_data\\Task309_welding\\mask\\W0002_0004.png to F:\\pytorch_study\\Segmentation/nnUNet-master/nnUNet-master\\Dataset/nnUNet_raw/nnUNet_raw_data\\Task309_welding\\mask\\W0001_0004.png\n",
      "Renamed F:\\pytorch_study\\Segmentation/nnUNet-master/nnUNet-master\\Dataset/nnUNet_raw/nnUNet_raw_data\\Task309_welding\\mask\\W0002_0005.png to F:\\pytorch_study\\Segmentation/nnUNet-master/nnUNet-master\\Dataset/nnUNet_raw/nnUNet_raw_data\\Task309_welding\\mask\\W0001_0005.png\n",
      "Renamed F:\\pytorch_study\\Segmentation/nnUNet-master/nnUNet-master\\Dataset/nnUNet_raw/nnUNet_raw_data\\Task309_welding\\mask\\W0002_0006.png to F:\\pytorch_study\\Segmentation/nnUNet-master/nnUNet-master\\Dataset/nnUNet_raw/nnUNet_raw_data\\Task309_welding\\mask\\W0001_0006.png\n",
      "Renamed F:\\pytorch_study\\Segmentation/nnUNet-master/nnUNet-master\\Dataset/nnUNet_raw/nnUNet_raw_data\\Task309_welding\\mask\\W0002_0007.png to F:\\pytorch_study\\Segmentation/nnUNet-master/nnUNet-master\\Dataset/nnUNet_raw/nnUNet_raw_data\\Task309_welding\\mask\\W0001_0007.png\n",
      "Renamed F:\\pytorch_study\\Segmentation/nnUNet-master/nnUNet-master\\Dataset/nnUNet_raw/nnUNet_raw_data\\Task309_welding\\mask\\W0002_0008.png to F:\\pytorch_study\\Segmentation/nnUNet-master/nnUNet-master\\Dataset/nnUNet_raw/nnUNet_raw_data\\Task309_welding\\mask\\W0001_0008.png\n",
      "Renamed F:\\pytorch_study\\Segmentation/nnUNet-master/nnUNet-master\\Dataset/nnUNet_raw/nnUNet_raw_data\\Task309_welding\\mask\\W0002_0009.png to F:\\pytorch_study\\Segmentation/nnUNet-master/nnUNet-master\\Dataset/nnUNet_raw/nnUNet_raw_data\\Task309_welding\\mask\\W0001_0009.png\n",
      "Renamed F:\\pytorch_study\\Segmentation/nnUNet-master/nnUNet-master\\Dataset/nnUNet_raw/nnUNet_raw_data\\Task309_welding\\mask\\W0002_0010.png to F:\\pytorch_study\\Segmentation/nnUNet-master/nnUNet-master\\Dataset/nnUNet_raw/nnUNet_raw_data\\Task309_welding\\mask\\W0001_0010.png\n"
     ]
    }
   ],
   "source": [
    "#将GDXray的label和image统一名称\n",
    "import os\n",
    "\n",
    "def rename_folders(path):\n",
    "    for folder_name in os.listdir(path):\n",
    "        if folder_name.startswith(\"W0002_\"):\n",
    "            new_name = folder_name.replace(\"W0002_\", \"W0001_\", 1)\n",
    "            old_path = os.path.join(path, folder_name)\n",
    "            new_path = os.path.join(path, new_name)\n",
    "            os.rename(old_path, new_path)\n",
    "            print(f\"Renamed {old_path} to {new_path}\")\n",
    "\n",
    "if __name__ == \"__main__\":\n",
    "    folder_path = \"F:\\pytorch_study\\Segmentation/nnUNet-master/nnUNet-master\\Dataset/nnUNet_raw/nnUNet_raw_data\\Task309_welding\\mask\"\n",
    "    rename_folders(folder_path)"
   ]
  },
  {
   "cell_type": "code",
   "execution_count": 8,
   "metadata": {},
   "outputs": [],
   "source": [
    "#\n",
    "import os\n",
    "import random\n",
    "import shutil\n",
    "\n",
    "\n",
    "def split_data():\n",
    "    # Set the ratio of training set to test set\n",
    "    train_ratio = 0.9\n",
    "\n",
    "    # Set the paths to the image and label folders\n",
    "    # image_folder = './dataset/image_data'\n",
    "    # label_folder = './dataset/image_label'\n",
    "    image_folder = 'F:\\pytorch_study\\Segmentation/nnUNet-master/nnUNet-master\\Dataset/nnUNet_raw/nnUNet_raw_data\\Task309_weldingseg/image_data'\n",
    "    label_folder = 'F:\\pytorch_study\\Segmentation/nnUNet-master/nnUNet-master\\Dataset/nnUNet_raw/nnUNet_raw_data\\Task309_weldingseg/image_label'\n",
    "\n",
    "    # Create train and test folders\n",
    "    # os.makedirs('./dataset/Thyroid/train/images', exist_ok=True)\n",
    "    # os.makedirs('./dataset/Thyroid/train/labels', exist_ok=True)\n",
    "    # os.makedirs('./dataset/Thyroid/test/images', exist_ok=True)\n",
    "    # os.makedirs('./dataset/Thyroid/test/labels', exist_ok=True)\n",
    "    os.makedirs('F:\\pytorch_study\\Segmentation/nnUNet-master/nnUNet-master\\Dataset/nnUNet_raw/nnUNet_raw_data\\Task309_weldingseg/Thyroid/train/images', exist_ok=True)\n",
    "    os.makedirs('F:\\pytorch_study\\Segmentation/nnUNet-master/nnUNet-master\\Dataset/nnUNet_raw/nnUNet_raw_data\\Task309_weldingseg/Thyroid/train/labels', exist_ok=True)\n",
    "    os.makedirs('F:\\pytorch_study\\Segmentation/nnUNet-master/nnUNet-master\\Dataset/nnUNet_raw/nnUNet_raw_data\\Task309_weldingseg/Thyroid/test/images', exist_ok=True)\n",
    "    os.makedirs('F:\\pytorch_study\\Segmentation/nnUNet-master/nnUNet-master\\Dataset/nnUNet_raw/nnUNet_raw_data\\Task309_weldingseg/Thyroid/test/labels', exist_ok=True)\n",
    "\n",
    "    # Get the list of image files\n",
    "    image_files = os.listdir(image_folder)\n",
    "    # Shuffle the list randomly\n",
    "    random.shuffle(image_files)\n",
    "\n",
    "    # Calculate the number of images for training and testing\n",
    "    num_train = int(len(image_files) * train_ratio)\n",
    "    num_test = len(image_files) - num_train\n",
    "\n",
    "    # Copy the images and labels to the respective train and test folders\n",
    "    for i, image_file in enumerate(image_files):\n",
    "        image_path = os.path.join(image_folder, image_file)\n",
    "        label_file = image_file.split('.')[0] + '.png'\n",
    "        label_path = os.path.join(label_folder, label_file)\n",
    "\n",
    "        if i < num_train:\n",
    "            # Copy to train folder\n",
    "            shutil.copy(image_path, 'F:\\pytorch_study\\Segmentation/nnUNet-master/nnUNet-master\\Dataset/nnUNet_raw/nnUNet_raw_data\\Task309_weldingseg/Thyroid/train/images')\n",
    "            shutil.copy(label_path, 'F:\\pytorch_study\\Segmentation/nnUNet-master/nnUNet-master\\Dataset/nnUNet_raw/nnUNet_raw_data\\Task309_weldingseg/Thyroid/train/labels')\n",
    "        else:\n",
    "            # Copy to test folder\n",
    "            shutil.copy(image_path, 'F:\\pytorch_study\\Segmentation/nnUNet-master/nnUNet-master\\Dataset/nnUNet_raw/nnUNet_raw_data\\Task309_weldingseg/Thyroid/test/images')\n",
    "            shutil.copy(label_path, 'F:\\pytorch_study\\Segmentation/nnUNet-master/nnUNet-master\\Dataset/nnUNet_raw/nnUNet_raw_data\\Task309_weldingseg/Thyroid/test/labels')\n",
    "\n",
    "\n",
    "if __name__ == '__main__':\n",
    "    split_data()"
   ]
  }
 ],
 "metadata": {
  "kernelspec": {
   "display_name": "Python 3",
   "language": "python",
   "name": "python3"
  },
  "language_info": {
   "codemirror_mode": {
    "name": "ipython",
    "version": 3
   },
   "file_extension": ".py",
   "mimetype": "text/x-python",
   "name": "python",
   "nbconvert_exporter": "python",
   "pygments_lexer": "ipython3",
   "version": "3.7.0"
  }
 },
 "nbformat": 4,
 "nbformat_minor": 2
}
